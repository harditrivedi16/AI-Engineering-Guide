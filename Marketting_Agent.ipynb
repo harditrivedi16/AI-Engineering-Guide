{
  "nbformat": 4,
  "nbformat_minor": 0,
  "metadata": {
    "colab": {
      "provenance": [],
      "gpuType": "T4"
    },
    "kernelspec": {
      "name": "python3",
      "display_name": "Python 3"
    },
    "language_info": {
      "name": "python"
    },
    "accelerator": "GPU"
  },
  "cells": [
    {
      "cell_type": "markdown",
      "source": [
        "# Marketing Agent: Rule-Based AI for Promotional Content\n",
        "\n",
        "This project builds a rule-based AI agent that helps generate creative marketing content using a mix of prompt engineering and generative models.\n",
        "\n",
        "### Project Tasks\n",
        "\n",
        "The agent supports the following three tasks:\n",
        "\n",
        "1. Product Description\n",
        "   - Given a product name, return a short marketing-friendly product description.\n",
        "   - Uses a pre-defined dictionary of products.\n",
        "\n",
        "2. Marketing Image Generation (Text-to-Image)\n",
        "   - Given a product name, generate a promotional-style image using a DALL·E-like image generator.\n",
        "   - Uses prompt templates to describe the product visually.\n",
        "\n",
        "3. Style Transfer for Marketing Image (Image-to-Image)\n",
        "   - Given a marketing image of product X and the name of product Y, generate a marketing image for Y that **preserves the style** of X.\n",
        "\n",
        "### Agent Architecture\n",
        "\n",
        "We implement a rule-based agent that parses user input and routes it to the appropriate tool (function) based on task intent. This contrasts with LLM-based agents by using deterministic logic, making it ideal for simple logic to choose tools\n",
        "\n",
        "\n",
        "### Learning Outcomes\n",
        "\n",
        "- Understand the structure of a hybrid AI system (dictionary lookup + generative tools)\n",
        "- Practice designing and testing prompts for image Generation Task\n",
        "- Learn to build and extend rule-based agents using simple routing logic\n",
        "- Evaluation using A/B testing\n"
      ],
      "metadata": {
        "id": "geWFoiz-2Dtf"
      }
    },
    {
      "cell_type": "markdown",
      "source": [
        "## Setting Up\n",
        "\n",
        "In this section, we will:\n",
        "\n",
        "- Install required libraries (`openai`, `langchain`)\n",
        "- Import necessary Python modules\n",
        "- Securely access the OpenAI API key using Colab Secrets\n"
      ],
      "metadata": {
        "id": "ufoudd4E29yX"
      }
    },
    {
      "cell_type": "code",
      "source": [
        "# Install core dependencies\n",
        "!pip install openai langchain langchain_community --quiet"
      ],
      "metadata": {
        "colab": {
          "base_uri": "https://localhost:8080/"
        },
        "id": "az-Msmaz2tUW",
        "outputId": "d5cc6293-bf68-4f3a-a803-997ccbf516e0"
      },
      "execution_count": 1,
      "outputs": [
        {
          "output_type": "stream",
          "name": "stdout",
          "text": [
            "\u001b[?25l   \u001b[90m━━━━━━━━━━━━━━━━━━━━━━━━━━━━━━━━━━━━━━━━\u001b[0m \u001b[32m0.0/2.5 MB\u001b[0m \u001b[31m?\u001b[0m eta \u001b[36m-:--:--\u001b[0m\r\u001b[2K   \u001b[90m━━━━━━━━━━━━━━━━━━━━━━━━━━━━━━━━━━━━━━━━\u001b[0m \u001b[32m2.5/2.5 MB\u001b[0m \u001b[31m92.4 MB/s\u001b[0m eta \u001b[36m0:00:00\u001b[0m\n",
            "\u001b[?25h\u001b[?25l   \u001b[90m━━━━━━━━━━━━━━━━━━━━━━━━━━━━━━━━━━━━━━━━\u001b[0m \u001b[32m0.0/45.2 kB\u001b[0m \u001b[31m?\u001b[0m eta \u001b[36m-:--:--\u001b[0m\r\u001b[2K   \u001b[90m━━━━━━━━━━━━━━━━━━━━━━━━━━━━━━━━━━━━━━━━\u001b[0m \u001b[32m45.2/45.2 kB\u001b[0m \u001b[31m3.7 MB/s\u001b[0m eta \u001b[36m0:00:00\u001b[0m\n",
            "\u001b[?25h\u001b[?25l   \u001b[90m━━━━━━━━━━━━━━━━━━━━━━━━━━━━━━━━━━━━━━━━\u001b[0m \u001b[32m0.0/50.9 kB\u001b[0m \u001b[31m?\u001b[0m eta \u001b[36m-:--:--\u001b[0m\r\u001b[2K   \u001b[90m━━━━━━━━━━━━━━━━━━━━━━━━━━━━━━━━━━━━━━━━\u001b[0m \u001b[32m50.9/50.9 kB\u001b[0m \u001b[31m4.7 MB/s\u001b[0m eta \u001b[36m0:00:00\u001b[0m\n",
            "\u001b[?25h"
          ]
        }
      ]
    },
    {
      "cell_type": "code",
      "source": [
        "# Imports\n",
        "from openai import OpenAI\n",
        "from langchain.prompts import PromptTemplate\n",
        "from langchain.llms import OpenAI as LangOpenAI\n",
        "from IPython.display import Image, display\n",
        "import os\n",
        "from google.colab import userdata\n"
      ],
      "metadata": {
        "id": "5SE8-0cD3FmD"
      },
      "execution_count": 2,
      "outputs": []
    },
    {
      "cell_type": "code",
      "source": [
        "# Securely fetch OpenAI API key from Colab Secrets\n",
        "openai_api_key = userdata.get(\"OPENAI_API_KEY\")\n",
        "assert openai_api_key is not None, \"API key not found in secrets!\"\n",
        "\n",
        "# Initialize OpenAI client for image generation\n",
        "client = OpenAI(api_key=openai_api_key)\n"
      ],
      "metadata": {
        "id": "Q3r_5TAP3SKR"
      },
      "execution_count": 3,
      "outputs": []
    },
    {
      "cell_type": "markdown",
      "source": [
        "## Tools\n",
        "\n",
        "In this section, we define all the tools (functions) that the agent will use. Each tool performs a specific task and can be called directly or via the agent.\n",
        "- Tool 1: Given product name get product description\n",
        "- Tool 2: Generate image from product name using prompt\n",
        "- Tool 3: Generate image of product Y in the style of image X"
      ],
      "metadata": {
        "id": "TMhNZmEr35Rz"
      }
    },
    {
      "cell_type": "markdown",
      "source": [
        "### Tool 1: Product Description\n",
        "\n",
        "This tool takes a product name as input and returns a pre-defined marketing description for that product.\n",
        "\n",
        "We simulate a backend product metadata system using a simple Python dictionary.  \n",
        "If the product is not found, we return a helpful fallback message."
      ],
      "metadata": {
        "id": "DFHI1Sj34ZjB"
      }
    },
    {
      "cell_type": "code",
      "source": [
        "# Dictionary of predefined product descriptions (Apple-style reworded)\n",
        "product_dict = {\n",
        "    \"SmartPhone\": \"A premium smartphone featuring edge-to-edge OLED display, advanced dual-camera system, and ultra-fast performance powered by the latest neural chip.\",\n",
        "    \"WirelessPods\": \"Compact wireless earbuds with active noise cancellation, adaptive EQ, and seamless connectivity across all your devices.\",\n",
        "    \"Laptop\": \"A lightweight professional-grade laptop with a high-resolution retina display, all-day battery life, and next-gen silicon performance.\",\n",
        "    \"ImmersiveHeadset\": \"A spatial computing headset with ultra-clear displays, hand gesture input, and real-time 3D rendering for next-level productivity and entertainment.\"\n",
        "}"
      ],
      "metadata": {
        "id": "Xm15-Xzw4Yyo"
      },
      "execution_count": 5,
      "outputs": []
    },
    {
      "cell_type": "code",
      "source": [
        "# Tool 1: Fetch product description\n",
        "def get_product_description(product_name: str) -> str:\n",
        "    return product_dict.get(\n",
        "        product_name,\n",
        "        f\"'{product_name}' not found in the product database.\"\n",
        "    )"
      ],
      "metadata": {
        "id": "PzZOp1rI5-48"
      },
      "execution_count": 6,
      "outputs": []
    },
    {
      "cell_type": "markdown",
      "source": [
        "### Tool 2: Generate Marketing Image from Product Name\n",
        "\n",
        "This tool takes a product name, retrieves its description using Tool 1, and then constructs a detailed image generation prompt to create a marketing-style image.\n",
        "\n",
        "We use prompt engineering techniques to shape how the product is visualized. The final prompt is sent to the OpenAI image generation API (DALL·E 2).\n",
        "\n",
        "This is the first point in the project where prompt design directly affects the quality of the output.\n",
        "\n",
        "> Example Input: `\"SmartPhone X\"`\n",
        "> Output: Generated image of the phone on a clean tech-oriented backdrop.\n"
      ],
      "metadata": {
        "id": "ov7wsxqz6vEi"
      }
    },
    {
      "cell_type": "code",
      "source": [
        "# Base prompt template for marketing image\n",
        "# Optimize this prompt\n",
        "image_prompt_template = PromptTemplate(\n",
        "    input_variables=[\"product_name\", \"product_description\"],\n",
        "    template=(\n",
        "        \"Create a high-quality promotional product image of a {product_name}. \"\n",
        "        \"The image should showcase: {product_description}. \"\n",
        "\n",
        "    )\n",
        ")"
      ],
      "metadata": {
        "id": "1XRzwiyz60-i"
      },
      "execution_count": 7,
      "outputs": []
    },
    {
      "cell_type": "code",
      "source": [
        "def generate_marketing_image(product_name: str, size=\"512x512\") -> str:\n",
        "\n",
        "    #Get Product Description\n",
        "    product_description = get_product_description(product_name)\n",
        "\n",
        "    # Handle missing product gracefully\n",
        "    if \"not found in the product database\" in product_description:\n",
        "        print(f\" No description available for '{product_name}'. Skipping image generation.\")\n",
        "        return None  # or a placeholder image URL\n",
        "\n",
        "    # Generate Prompt\n",
        "    image_prompt = image_prompt_template.format(\n",
        "        product_name=product_name,\n",
        "        product_description=product_description\n",
        "    )\n",
        "\n",
        "    #Connect the DALLE model with the prompt and get image url\n",
        "    response = client.images.generate(\n",
        "        model=\"dall-e-2\",\n",
        "        prompt=image_prompt,\n",
        "        n=1,\n",
        "        size=size\n",
        "    )\n",
        "\n",
        "    return response.data[0].url\n"
      ],
      "metadata": {
        "id": "755RpBzl69P2"
      },
      "execution_count": 8,
      "outputs": []
    },
    {
      "cell_type": "markdown",
      "source": [
        "### Tool 3: Style Transfer - Generate Product Y Image in the Style of Product X\n",
        "\n",
        "This tool takes:\n",
        "\n",
        "- A marketing image URL of product X\n",
        "- The name of product Y\n",
        "\n",
        "It generates a new marketing image for product Y that preserves the visual style of product X.\n"
      ],
      "metadata": {
        "id": "huRvMzKkA1pM"
      }
    },
    {
      "cell_type": "code",
      "source": [
        "# Prompt template for style transfer\n",
        "style_transfer_prompt_template = PromptTemplate(\n",
        "    input_variables=[\"product_y\", \"product_y_desc\", \"product_x_image_url\"],\n",
        "    template=(\n",
        "        \"Create a promotional product image for {product_y} that mimics the style, lighting, and composition \"\n",
        "        \"of this reference image: {product_x_image_url}. \"\n",
        "        \"Product description: {product_y_desc}. \"\n",
        "        \"Maintain the same mood and minimalistic tech style.\"\n",
        "    )\n",
        ")"
      ],
      "metadata": {
        "id": "zesfY_H2BR_g"
      },
      "execution_count": 9,
      "outputs": []
    },
    {
      "cell_type": "code",
      "source": [
        "def generate_style_transfer_image(product_x_image_url: str, product_y: str, size=\"512x512\") -> str:\n",
        "    # Get description of product Y\n",
        "    product_y_desc = get_product_description(product_y)\n",
        "\n",
        "    # Handle missing product gracefully\n",
        "    if \"not found in the product database\" in product_y_desc:\n",
        "        print(f\"No description available for '{product_y}'. Skipping image generation.\")\n",
        "        return None\n",
        "\n",
        "    # Format prompt\n",
        "    prompt = style_transfer_prompt_template.format(\n",
        "        product_y=product_y,\n",
        "        product_y_desc=product_y_desc,\n",
        "        product_x_image_url=product_x_image_url\n",
        "    )\n",
        "\n",
        "    # Generate image\n",
        "    response = client.images.generate(\n",
        "        model=\"dall-e-2\",\n",
        "        prompt=prompt,\n",
        "        n=1,\n",
        "        size=size\n",
        "    )\n",
        "    return response.data[0].url"
      ],
      "metadata": {
        "id": "rnBTSwoTBSke"
      },
      "execution_count": 10,
      "outputs": []
    },
    {
      "cell_type": "markdown",
      "source": [
        "\n",
        "## Rule-Based Agent\n",
        "\n",
        "In this section, we define a simple **rule-based agent** that interprets user input and decides which tool to use:\n",
        "\n",
        "---\n",
        "\n",
        "### Supported Tasks:\n",
        "\n",
        "- Get product description  \n",
        "  → Calls Tool 1 (`get_product_description`)\n",
        "- Generate marketing image\n",
        "  → Calls Tool 2 (`generate_marketing_image`)\n",
        "- Style transfer from product X to product Y\n",
        "  → Calls Tool 3 (`generate_style_transfer_image`)\n",
        "\n",
        "---\n",
        "\n",
        "This agent does not use an LLM — it uses hardcoded rules and keyword matching.  \n",
        "This structure makes the logic transparent and predictable, which is useful for debugging and teaching control flow.\n"
      ],
      "metadata": {
        "id": "ihMzAXlsC-GQ"
      }
    },
    {
      "cell_type": "code",
      "source": [
        "def marketing_agent(user_input: str, reference_image_url: str = None) -> str:\n",
        "    input_lower = user_input.lower()\n",
        "\n",
        "    # Rule 1: Description request\n",
        "    if \"description\" in input_lower or \"describe\" in input_lower:\n",
        "        for product in product_dict:\n",
        "            if product.lower() in input_lower:\n",
        "                return get_product_description(product)\n",
        "\n",
        "        return \"No known product mentioned in the request.\"\n",
        "\n",
        "    # Rule 2: Generate marketing image (only if no reference image is provided)\n",
        "    elif (\"generate\" in input_lower and 'image' in input_lower  ) and reference_image_url is None:\n",
        "        for product in product_dict:\n",
        "            if product.lower() in input_lower:\n",
        "                image_url = generate_marketing_image(product)\n",
        "                if image_url:\n",
        "                    display(Image(url=image_url))\n",
        "                    return f\" Marketing image generated for '{product}'\"\n",
        "                else:\n",
        "                    return \"Could not generate image.\"\n",
        "\n",
        "        return \"No known product mentioned for image generation.\"\n",
        "\n",
        "    # Rule 3: Style transfer (requires reference image)\n",
        "    elif \"style of\" in input_lower and \"for\" in input_lower and reference_image_url:\n",
        "        product_x = None\n",
        "        product_y = None\n",
        "        for product in product_dict:\n",
        "            if f\"style of {product.lower()}\" in input_lower:\n",
        "                product_x = product\n",
        "            if f\"for {product.lower()}\" in input_lower:\n",
        "                product_y = product\n",
        "\n",
        "        if product_y:\n",
        "            new_image_url = generate_style_transfer_image(reference_image_url, product_y)\n",
        "            if new_image_url:\n",
        "                display(Image(url=new_image_url))\n",
        "                return f\" Generated image of '{product_y}' in style of '{product_x}'\"\n",
        "            else:\n",
        "                return \"Could not generate transferred image.\"\n",
        "        else:\n",
        "            return \"Product Y not found in input.\"\n",
        "\n",
        "    return \" I'm not sure what you're asking. Try using keywords like 'description', 'generate image', or 'style of X for Y'.\""
      ],
      "metadata": {
        "id": "FyChrhM9DHLj"
      },
      "execution_count": 11,
      "outputs": []
    },
    {
      "cell_type": "markdown",
      "source": [
        "\n",
        "\n",
        "## Evaluating the Agent\n",
        "\n",
        "In this section, we test our rule-based agent by sending different types of input queries and observing how it routes the requests to different tools.\n",
        "\n",
        "---\n",
        "\n",
        "###  What We're Testing\n",
        "\n",
        "- Tool 1: Fetching a product description\n",
        "- Tool 2: Generating a marketing image\n",
        "- Tool 3: Generating a new image of product Y in the style of product X\n",
        "\n",
        "This gives us a chance to test:\n",
        "- Rule-based input parsing\n",
        "- Prompt generation\n",
        "- Visual results of different prompt types\n",
        "\n",
        "We'll also reuse the result of one tool (product X image) as input to another (style transfer).\n"
      ],
      "metadata": {
        "id": "MSp4IsMTFW0u"
      }
    },
    {
      "cell_type": "code",
      "source": [
        "# Tool 1: Description only\n",
        "print(marketing_agent(\"Can you give me a description of SmartPhone X?\"))"
      ],
      "metadata": {
        "colab": {
          "base_uri": "https://localhost:8080/"
        },
        "id": "KZA9okU1FkPl",
        "outputId": "d79bcf58-8466-4ff4-8fa5-2bffe955441e"
      },
      "execution_count": 12,
      "outputs": [
        {
          "output_type": "stream",
          "name": "stdout",
          "text": [
            "A premium smartphone featuring edge-to-edge OLED display, advanced dual-camera system, and ultra-fast performance powered by the latest neural chip.\n"
          ]
        }
      ]
    },
    {
      "cell_type": "code",
      "source": [
        "# Tool 2: Image generation\n",
        "print(marketing_agent(\"Generate image of WirelessPods\"))"
      ],
      "metadata": {
        "id": "ZIRYnznSFuu7"
      },
      "execution_count": null,
      "outputs": []
    },
    {
      "cell_type": "code",
      "source": [
        "# Tool 2: Another product\n",
        "print(marketing_agent(\"generate image for Laptop M\"))"
      ],
      "metadata": {
        "id": "-QPrUVLmFyYB"
      },
      "execution_count": null,
      "outputs": []
    },
    {
      "cell_type": "code",
      "source": [
        "# Tool 3: Style transfer (simulate reference image)\n",
        "\n",
        "# Generate an image of SmartPhone Ultra first\n",
        "reference_url = generate_marketing_image( \"SmartPhone\")\n"
      ],
      "metadata": {
        "id": "fQtlSLTwF3T4"
      },
      "execution_count": 20,
      "outputs": []
    },
    {
      "cell_type": "code",
      "source": [
        "print(\" Reference image for style transfer:\")\n",
        "display(Image(url=reference_url))\n",
        "# Now use that for generating image of another product in same style\n",
        "print(marketing_agent(\"Generate image in style of SmartPhone Ultra for ImmersiveHeadset X\", reference_image_url=reference_url))"
      ],
      "metadata": {
        "id": "dGwc9q3zb25m"
      },
      "execution_count": null,
      "outputs": []
    },
    {
      "cell_type": "markdown",
      "source": [
        "## A/B Testing Prompts: Group Activity\n",
        "\n",
        "### What is A/B Testing?\n",
        "\n",
        "A/B testing is a method of comparing two versions of something (in this case, prompts) to determine which performs better.\n",
        "\n",
        "- **A Prompt** → Original prompt\n",
        "- **B Prompt** → Modified version of the prompt (e.g., wording, style, tone)\n",
        "- The output of each is evaluated based on visual quality, alignment to task, and creativity.\n",
        "\n",
        "This process helps refine prompts to improve AI performance systematically, rather than by intuition alone."
      ],
      "metadata": {
        "id": "DJR2c4AtG0R8"
      }
    },
    {
      "cell_type": "markdown",
      "source": [
        "### Group Activity Overview\n",
        "\n",
        "We have 6 students. You’ll be divided into **2 groups of 3**:\n",
        "\n",
        "- Group A: Will take the original image prompt (used in Tool 2) and optimize it for style, specificity, or branding\n",
        "- Group B: Will do the same, but in a different direction (e.g., focus on setting, lighting, mood)\n",
        "\n",
        "---\n",
        "\n",
        "###  Step-by-Step Instructions\n",
        "\n",
        "1. Each group edits the original prompt template** from Tool 2:\n",
        "\"Create a high-quality promotional product image of a {product_name}.\n",
        "The image should showcase: {product_description}.\n",
        "Use a clean, modern background suitable for tech advertising. Studio lighting, minimalistic setting.\"\n",
        "\n",
        "\n",
        "2. Replace the `image_prompt_template` in the code with your group's version.\n",
        "\n",
        "3. Run the updated prompt on the same product (e.g., `\"ProLaptop M\"`).\n",
        "\n",
        "4. Save the image result (or copy the URL) as Version A or B.\n",
        "\n",
        "5. Swap results** with the other group.\n",
        "\n",
        "6. Each group evaluates the other group’s image using this rubric:\n",
        "\n",
        "| Criteria             | Rating (1–5) |\n",
        "|----------------------|-------------|\n",
        "| Visual quality       |             |\n",
        "| Marketing appeal     |             |\n",
        "| Clarity of product   |             |\n",
        "| Creativity / novelty |             |\n",
        "\n",
        "---\n",
        "\n",
        "### Discussion\n",
        "\n",
        "- What prompt changes had the biggest effect?\n",
        "- Which wording helped or hurt?\n",
        "- How would you iterate again based on what you observed?\n",
        "\n",
        "This exercise builds prompt intuition by making you test, compare, and explain your design choices — just like you would in a real-world AI product.\n",
        "\n",
        "---"
      ],
      "metadata": {
        "id": "HlBeYQTnG3Up"
      }
    }
  ]
}